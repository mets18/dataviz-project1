{
 "cells": [
  {
   "cell_type": "code",
   "execution_count": 2,
   "metadata": {},
   "outputs": [],
   "source": [
    "# Dependencies\n",
    "import csv\n",
    "import requests\n",
    "import json\n",
    "import pandas as pd\n"
   ]
  },
  {
   "cell_type": "code",
   "execution_count": 3,
   "metadata": {},
   "outputs": [],
   "source": [
    "#Find the lat and lng of subway stations in nyc.\n",
    "subway_url = \"http://mtaapi.herokuapp.com/stations\"\n",
    "\n",
    "\n",
    "# Run request\n",
    "response = requests.get(subway_url)\n",
    "\n"
   ]
  },
  {
   "cell_type": "code",
   "execution_count": 4,
   "metadata": {},
   "outputs": [],
   "source": [
    "# Parse response data to create a list of subway stations\n",
    "\n",
    "subway_stations = response.json()\n",
    "\n",
    "\n"
   ]
  },
  {
   "cell_type": "code",
   "execution_count": 5,
   "metadata": {},
   "outputs": [],
   "source": [
    "# Create empty dataset for station ids\n",
    "\n",
    "ids = []\n",
    "\n",
    "# Run loop to capture necessary data\n",
    "for x in subway_stations['result']:\n",
    "    this_id = x['id']\n",
    "    ids.append(this_id)\n",
    "\n",
    "\n"
   ]
  },
  {
   "cell_type": "code",
   "execution_count": 6,
   "metadata": {},
   "outputs": [],
   "source": [
    "# Use list of ids to capture station names and coordinates\n",
    "\n",
    "base_url = \"http://mtaapi.herokuapp.com/stop?id=\"\n",
    "\n",
    "lat = []\n",
    "lng = []\n",
    "name = []\n",
    "\n",
    "for y in ids:\n",
    "    response = requests.get(base_url + y)\n",
    "    station = response.json()\n",
    "    this_lat = station['result']['lat']\n",
    "    this_lng = station['result']['lon']\n",
    "    this_name = station['result']['name']\n",
    "    lat.append(this_lat)\n",
    "    lng.append(this_lng)\n",
    "    name.append(this_name)\n"
   ]
  },
  {
   "cell_type": "code",
   "execution_count": 7,
   "metadata": {},
   "outputs": [],
   "source": [
    "# Create dictionary with data\n",
    "subway_data = {\"Station\": name, \"Latitude\": lat, \"Longitude\": lng}\n",
    "\n",
    "# Convert dictionary to dataframe\n",
    "subway_data = pd.DataFrame(subway_data)\n",
    "#subway_data"
   ]
  },
  {
   "cell_type": "code",
   "execution_count": 8,
   "metadata": {},
   "outputs": [],
   "source": [
    "#Eliminate duplicate rows\n",
    "subway_data_clean = subway_data.drop_duplicates()"
   ]
  },
  {
   "cell_type": "code",
   "execution_count": 9,
   "metadata": {},
   "outputs": [],
   "source": [
    "# Display clean dataframe\n",
    "#subway_data_clean"
   ]
  },
  {
   "cell_type": "code",
   "execution_count": 11,
   "metadata": {},
   "outputs": [],
   "source": [
    "# Export CSV\n",
    "subway_data_clean.to_csv (\"Output_Data/subway_stations.csv\", index = None, header=True)"
   ]
  },
  {
   "cell_type": "code",
   "execution_count": null,
   "metadata": {},
   "outputs": [],
   "source": []
  }
 ],
 "metadata": {
  "kernelspec": {
   "display_name": "Python 3",
   "language": "python",
   "name": "python3"
  },
  "language_info": {
   "codemirror_mode": {
    "name": "ipython",
    "version": 3
   },
   "file_extension": ".py",
   "mimetype": "text/x-python",
   "name": "python",
   "nbconvert_exporter": "python",
   "pygments_lexer": "ipython3",
   "version": "3.7.2"
  }
 },
 "nbformat": 4,
 "nbformat_minor": 2
}
