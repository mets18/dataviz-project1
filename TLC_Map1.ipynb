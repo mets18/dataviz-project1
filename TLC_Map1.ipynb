{
 "cells": [
  {
   "cell_type": "markdown",
   "metadata": {},
   "source": [
    "# Create Heat Map showing use of Taxi Vs FHV"
   ]
  },
  {
   "cell_type": "code",
   "execution_count": 99,
   "metadata": {},
   "outputs": [],
   "source": [
    "import pandas as pd\n",
    "\n",
    "import gmaps\n",
    "\n",
    "# Google developer API key\n",
    "from api_keys import gkey\n",
    "\n",
    "# Access maps with unique API key\n",
    "gmaps.configure(api_key=gkey)"
   ]
  },
  {
   "cell_type": "markdown",
   "metadata": {},
   "source": [
    "# Get Rides Data"
   ]
  },
  {
   "cell_type": "code",
   "execution_count": 100,
   "metadata": {},
   "outputs": [
    {
     "data": {
      "text/html": [
       "<div>\n",
       "<style scoped>\n",
       "    .dataframe tbody tr th:only-of-type {\n",
       "        vertical-align: middle;\n",
       "    }\n",
       "\n",
       "    .dataframe tbody tr th {\n",
       "        vertical-align: top;\n",
       "    }\n",
       "\n",
       "    .dataframe thead th {\n",
       "        text-align: right;\n",
       "    }\n",
       "</style>\n",
       "<table border=\"1\" class=\"dataframe\">\n",
       "  <thead>\n",
       "    <tr style=\"text-align: right;\">\n",
       "      <th></th>\n",
       "      <th>Pickup_ID</th>\n",
       "      <th>month</th>\n",
       "      <th>count</th>\n",
       "      <th>category</th>\n",
       "    </tr>\n",
       "  </thead>\n",
       "  <tbody>\n",
       "    <tr>\n",
       "      <th>0</th>\n",
       "      <td>1.0</td>\n",
       "      <td>1.0</td>\n",
       "      <td>584.0</td>\n",
       "      <td>Taxi</td>\n",
       "    </tr>\n",
       "    <tr>\n",
       "      <th>1</th>\n",
       "      <td>2.0</td>\n",
       "      <td>1.0</td>\n",
       "      <td>4.0</td>\n",
       "      <td>Taxi</td>\n",
       "    </tr>\n",
       "    <tr>\n",
       "      <th>2</th>\n",
       "      <td>3.0</td>\n",
       "      <td>1.0</td>\n",
       "      <td>432.0</td>\n",
       "      <td>Taxi</td>\n",
       "    </tr>\n",
       "    <tr>\n",
       "      <th>3</th>\n",
       "      <td>4.0</td>\n",
       "      <td>1.0</td>\n",
       "      <td>19656.0</td>\n",
       "      <td>Taxi</td>\n",
       "    </tr>\n",
       "    <tr>\n",
       "      <th>4</th>\n",
       "      <td>5.0</td>\n",
       "      <td>1.0</td>\n",
       "      <td>2.0</td>\n",
       "      <td>Taxi</td>\n",
       "    </tr>\n",
       "  </tbody>\n",
       "</table>\n",
       "</div>"
      ],
      "text/plain": [
       "   Pickup_ID  month    count category\n",
       "0        1.0    1.0    584.0     Taxi\n",
       "1        2.0    1.0      4.0     Taxi\n",
       "2        3.0    1.0    432.0     Taxi\n",
       "3        4.0    1.0  19656.0     Taxi\n",
       "4        5.0    1.0      2.0     Taxi"
      ]
     },
     "execution_count": 100,
     "metadata": {},
     "output_type": "execute_result"
    }
   ],
   "source": [
    "rides_df = pd.read_csv(\"All_TLC_2018Trip.csv\")\n",
    "\n",
    "\n",
    "rides_df.head()\n"
   ]
  },
  {
   "cell_type": "markdown",
   "metadata": {},
   "source": [
    "# Get Locations Data"
   ]
  },
  {
   "cell_type": "code",
   "execution_count": 101,
   "metadata": {},
   "outputs": [],
   "source": [
    "loc_df = pd.read_csv(\"TLC_Locations.csv\")\n",
    "\n",
    "loc_df = loc_df[[\"LocationID\", \"Lat\", \"Lng\"]]\n"
   ]
  },
  {
   "cell_type": "markdown",
   "metadata": {},
   "source": [
    "# Mere Data Sets to pull summary by Lat, Lng for google map"
   ]
  },
  {
   "cell_type": "code",
   "execution_count": 102,
   "metadata": {},
   "outputs": [],
   "source": [
    "rides_df_taxi = rides_df.loc[rides_df['category'] == 'Taxi']\n",
    "\n",
    "comb_df_taxi = pd.merge(loc_df,rides_df_taxi, left_on ='LocationID', right_on='Pickup_ID', how ='outer' ).fillna(method='ffill')\n",
    "\n",
    "rides_df_FHV = rides_df.loc[rides_df['category'] == 'FHV']\n",
    "\n",
    "comb_df_FHV = pd.merge(loc_df,rides_df_FHV, left_on ='LocationID', right_on='Pickup_ID', how ='outer' ).fillna(method='ffill')\n"
   ]
  },
  {
   "cell_type": "code",
   "execution_count": 103,
   "metadata": {},
   "outputs": [],
   "source": [
    "comb_df_taxi = comb_df_taxi[[\"LocationID\",\"Lat\",\"Lng\", \"month\",\"count\", \"category\"]]\n",
    "\n",
    "comb_df_FHV = comb_df_FHV[[\"LocationID\",\"Lat\",\"Lng\", \"month\",\"count\", \"category\"]]"
   ]
  },
  {
   "cell_type": "code",
   "execution_count": 117,
   "metadata": {},
   "outputs": [],
   "source": [
    "loc_df =loc_df.drop_duplicates(\"LocationID\")\n",
    "locations = loc_df[[\"Lat\", \"Lng\"]].astype(float)"
   ]
  },
  {
   "cell_type": "code",
   "execution_count": 129,
   "metadata": {},
   "outputs": [
    {
     "data": {
      "text/plain": [
       "260"
      ]
     },
     "execution_count": 129,
     "metadata": {},
     "output_type": "execute_result"
    }
   ],
   "source": [
    "\n",
    "taxi_count = comb_df_taxi.groupby(\"LocationID\")[\"count\"].sum().astype(float)\n",
    "\n",
    "\n",
    "FHV_count = comb_df_FHV.groupby(\"LocationID\")[\"count\"].sum().astype(float)\n",
    "\n",
    "len(locations)\n",
    "len(taxi_count)\n",
    "#len(FHV_count)"
   ]
  },
  {
   "cell_type": "markdown",
   "metadata": {},
   "source": [
    "# Create Taxi Heat Map"
   ]
  },
  {
   "cell_type": "code",
   "execution_count": 128,
   "metadata": {},
   "outputs": [
    {
     "data": {
      "application/vnd.jupyter.widget-view+json": {
       "model_id": "cb6c1d3e29f4435c917319c5286f1f70",
       "version_major": 2,
       "version_minor": 0
      },
      "text/plain": [
       "Figure(layout=FigureLayout(height='420px'))"
      ]
     },
     "metadata": {},
     "output_type": "display_data"
    }
   ],
   "source": [
    "# Create a poverty Heatmap layer\n",
    "fig = gmaps.figure()\n",
    "\n",
    "heat_layer = gmaps.heatmap_layer(locations, weights=taxi_count, dissipating=False, max_intensity=100,point_radius = 1)\n",
    "\n",
    "# Adjust heat_layer setting to help with heatmap dissipating on zoom\n",
    "heat_layer.dissipating = False\n",
    "heat_layer.max_intensity = 100\n",
    "heat_layer.point_radius = 1\n",
    "\n",
    "fig.add_layer(heat_layer)\n",
    "\n",
    "fig"
   ]
  },
  {
   "cell_type": "code",
   "execution_count": null,
   "metadata": {},
   "outputs": [],
   "source": []
  },
  {
   "cell_type": "code",
   "execution_count": null,
   "metadata": {},
   "outputs": [],
   "source": []
  },
  {
   "cell_type": "code",
   "execution_count": null,
   "metadata": {},
   "outputs": [],
   "source": []
  },
  {
   "cell_type": "code",
   "execution_count": null,
   "metadata": {},
   "outputs": [],
   "source": []
  },
  {
   "cell_type": "code",
   "execution_count": null,
   "metadata": {},
   "outputs": [],
   "source": []
  }
 ],
 "metadata": {
  "kernelspec": {
   "display_name": "Python (PythonData)",
   "language": "python",
   "name": "pythondata"
  },
  "language_info": {
   "codemirror_mode": {
    "name": "ipython",
    "version": 3
   },
   "file_extension": ".py",
   "mimetype": "text/x-python",
   "name": "python",
   "nbconvert_exporter": "python",
   "pygments_lexer": "ipython3",
   "version": "3.7.2"
  }
 },
 "nbformat": 4,
 "nbformat_minor": 2
}
