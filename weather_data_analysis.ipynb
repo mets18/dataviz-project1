{
 "cells": [
  {
   "cell_type": "code",
   "execution_count": 29,
   "metadata": {},
   "outputs": [],
   "source": [
    "import pandas as pd\n",
    "import matplotlib.pyplot as plt\n",
    "import scipy.stats as stats"
   ]
  },
  {
   "cell_type": "markdown",
   "metadata": {},
   "source": [
    "## Import 2018 NYC Weather data"
   ]
  },
  {
   "cell_type": "code",
   "execution_count": 3,
   "metadata": {},
   "outputs": [
    {
     "data": {
      "text/html": [
       "<div>\n",
       "<style scoped>\n",
       "    .dataframe tbody tr th:only-of-type {\n",
       "        vertical-align: middle;\n",
       "    }\n",
       "\n",
       "    .dataframe tbody tr th {\n",
       "        vertical-align: top;\n",
       "    }\n",
       "\n",
       "    .dataframe thead th {\n",
       "        text-align: right;\n",
       "    }\n",
       "</style>\n",
       "<table border=\"1\" class=\"dataframe\">\n",
       "  <thead>\n",
       "    <tr style=\"text-align: right;\">\n",
       "      <th></th>\n",
       "      <th>STATION</th>\n",
       "      <th>NAME</th>\n",
       "      <th>LATITUDE</th>\n",
       "      <th>LONGITUDE</th>\n",
       "      <th>ELEVATION</th>\n",
       "      <th>DATE</th>\n",
       "      <th>AWND</th>\n",
       "      <th>PRCP</th>\n",
       "      <th>SNOW</th>\n",
       "      <th>SNWD</th>\n",
       "      <th>TMAX</th>\n",
       "      <th>TMIN</th>\n",
       "    </tr>\n",
       "  </thead>\n",
       "  <tbody>\n",
       "    <tr>\n",
       "      <th>0</th>\n",
       "      <td>USW00094728</td>\n",
       "      <td>NY CITY CENTRAL PARK, NY US</td>\n",
       "      <td>40.77898</td>\n",
       "      <td>-73.96925</td>\n",
       "      <td>42.7</td>\n",
       "      <td>2018-01-01</td>\n",
       "      <td>7.83</td>\n",
       "      <td>0.00</td>\n",
       "      <td>0.0</td>\n",
       "      <td>0.0</td>\n",
       "      <td>19</td>\n",
       "      <td>7</td>\n",
       "    </tr>\n",
       "    <tr>\n",
       "      <th>1</th>\n",
       "      <td>USW00094728</td>\n",
       "      <td>NY CITY CENTRAL PARK, NY US</td>\n",
       "      <td>40.77898</td>\n",
       "      <td>-73.96925</td>\n",
       "      <td>42.7</td>\n",
       "      <td>2018-01-02</td>\n",
       "      <td>8.05</td>\n",
       "      <td>0.00</td>\n",
       "      <td>0.0</td>\n",
       "      <td>0.0</td>\n",
       "      <td>26</td>\n",
       "      <td>13</td>\n",
       "    </tr>\n",
       "    <tr>\n",
       "      <th>2</th>\n",
       "      <td>USW00094728</td>\n",
       "      <td>NY CITY CENTRAL PARK, NY US</td>\n",
       "      <td>40.77898</td>\n",
       "      <td>-73.96925</td>\n",
       "      <td>42.7</td>\n",
       "      <td>2018-01-03</td>\n",
       "      <td>3.13</td>\n",
       "      <td>0.00</td>\n",
       "      <td>0.0</td>\n",
       "      <td>0.0</td>\n",
       "      <td>30</td>\n",
       "      <td>16</td>\n",
       "    </tr>\n",
       "    <tr>\n",
       "      <th>3</th>\n",
       "      <td>USW00094728</td>\n",
       "      <td>NY CITY CENTRAL PARK, NY US</td>\n",
       "      <td>40.77898</td>\n",
       "      <td>-73.96925</td>\n",
       "      <td>42.7</td>\n",
       "      <td>2018-01-04</td>\n",
       "      <td>12.53</td>\n",
       "      <td>0.76</td>\n",
       "      <td>9.8</td>\n",
       "      <td>1.2</td>\n",
       "      <td>29</td>\n",
       "      <td>19</td>\n",
       "    </tr>\n",
       "    <tr>\n",
       "      <th>4</th>\n",
       "      <td>USW00094728</td>\n",
       "      <td>NY CITY CENTRAL PARK, NY US</td>\n",
       "      <td>40.77898</td>\n",
       "      <td>-73.96925</td>\n",
       "      <td>42.7</td>\n",
       "      <td>2018-01-05</td>\n",
       "      <td>12.97</td>\n",
       "      <td>0.00</td>\n",
       "      <td>0.0</td>\n",
       "      <td>7.1</td>\n",
       "      <td>19</td>\n",
       "      <td>9</td>\n",
       "    </tr>\n",
       "  </tbody>\n",
       "</table>\n",
       "</div>"
      ],
      "text/plain": [
       "       STATION                         NAME  LATITUDE  LONGITUDE  ELEVATION  \\\n",
       "0  USW00094728  NY CITY CENTRAL PARK, NY US  40.77898  -73.96925       42.7   \n",
       "1  USW00094728  NY CITY CENTRAL PARK, NY US  40.77898  -73.96925       42.7   \n",
       "2  USW00094728  NY CITY CENTRAL PARK, NY US  40.77898  -73.96925       42.7   \n",
       "3  USW00094728  NY CITY CENTRAL PARK, NY US  40.77898  -73.96925       42.7   \n",
       "4  USW00094728  NY CITY CENTRAL PARK, NY US  40.77898  -73.96925       42.7   \n",
       "\n",
       "        DATE   AWND  PRCP  SNOW  SNWD  TMAX  TMIN  \n",
       "0 2018-01-01   7.83  0.00   0.0   0.0    19     7  \n",
       "1 2018-01-02   8.05  0.00   0.0   0.0    26    13  \n",
       "2 2018-01-03   3.13  0.00   0.0   0.0    30    16  \n",
       "3 2018-01-04  12.53  0.76   9.8   1.2    29    19  \n",
       "4 2018-01-05  12.97  0.00   0.0   7.1    19     9  "
      ]
     },
     "execution_count": 3,
     "metadata": {},
     "output_type": "execute_result"
    }
   ],
   "source": [
    "weather = pd.read_csv(\"Data/2018_NYC_Weather.csv\", parse_dates = [\"DATE\"])\n",
    "weather.head()"
   ]
  },
  {
   "cell_type": "code",
   "execution_count": 4,
   "metadata": {},
   "outputs": [
    {
     "data": {
      "text/html": [
       "<div>\n",
       "<style scoped>\n",
       "    .dataframe tbody tr th:only-of-type {\n",
       "        vertical-align: middle;\n",
       "    }\n",
       "\n",
       "    .dataframe tbody tr th {\n",
       "        vertical-align: top;\n",
       "    }\n",
       "\n",
       "    .dataframe thead th {\n",
       "        text-align: right;\n",
       "    }\n",
       "</style>\n",
       "<table border=\"1\" class=\"dataframe\">\n",
       "  <thead>\n",
       "    <tr style=\"text-align: right;\">\n",
       "      <th></th>\n",
       "      <th>DATE</th>\n",
       "      <th>PRCP</th>\n",
       "      <th>SNOW</th>\n",
       "      <th>TMAX</th>\n",
       "      <th>TMIN</th>\n",
       "      <th>TAVG</th>\n",
       "      <th>month</th>\n",
       "      <th>day</th>\n",
       "    </tr>\n",
       "  </thead>\n",
       "  <tbody>\n",
       "    <tr>\n",
       "      <th>0</th>\n",
       "      <td>2018-01-01</td>\n",
       "      <td>0.00</td>\n",
       "      <td>0.0</td>\n",
       "      <td>19</td>\n",
       "      <td>7</td>\n",
       "      <td>13.0</td>\n",
       "      <td>1</td>\n",
       "      <td>1</td>\n",
       "    </tr>\n",
       "    <tr>\n",
       "      <th>1</th>\n",
       "      <td>2018-01-02</td>\n",
       "      <td>0.00</td>\n",
       "      <td>0.0</td>\n",
       "      <td>26</td>\n",
       "      <td>13</td>\n",
       "      <td>19.5</td>\n",
       "      <td>1</td>\n",
       "      <td>2</td>\n",
       "    </tr>\n",
       "    <tr>\n",
       "      <th>2</th>\n",
       "      <td>2018-01-03</td>\n",
       "      <td>0.00</td>\n",
       "      <td>0.0</td>\n",
       "      <td>30</td>\n",
       "      <td>16</td>\n",
       "      <td>23.0</td>\n",
       "      <td>1</td>\n",
       "      <td>3</td>\n",
       "    </tr>\n",
       "    <tr>\n",
       "      <th>3</th>\n",
       "      <td>2018-01-04</td>\n",
       "      <td>0.76</td>\n",
       "      <td>9.8</td>\n",
       "      <td>29</td>\n",
       "      <td>19</td>\n",
       "      <td>24.0</td>\n",
       "      <td>1</td>\n",
       "      <td>4</td>\n",
       "    </tr>\n",
       "    <tr>\n",
       "      <th>4</th>\n",
       "      <td>2018-01-05</td>\n",
       "      <td>0.00</td>\n",
       "      <td>0.0</td>\n",
       "      <td>19</td>\n",
       "      <td>9</td>\n",
       "      <td>14.0</td>\n",
       "      <td>1</td>\n",
       "      <td>5</td>\n",
       "    </tr>\n",
       "  </tbody>\n",
       "</table>\n",
       "</div>"
      ],
      "text/plain": [
       "        DATE  PRCP  SNOW  TMAX  TMIN  TAVG  month  day\n",
       "0 2018-01-01  0.00   0.0    19     7  13.0      1    1\n",
       "1 2018-01-02  0.00   0.0    26    13  19.5      1    2\n",
       "2 2018-01-03  0.00   0.0    30    16  23.0      1    3\n",
       "3 2018-01-04  0.76   9.8    29    19  24.0      1    4\n",
       "4 2018-01-05  0.00   0.0    19     9  14.0      1    5"
      ]
     },
     "execution_count": 4,
     "metadata": {},
     "output_type": "execute_result"
    }
   ],
   "source": [
    "weather = weather[[\"DATE\",\"PRCP\",\"SNOW\",\"TMAX\",\"TMIN\"]] #Keep Date, Rain, Snow, Temp.\n",
    "weather[\"TAVG\"] = [((weather.TMAX[x]+weather.TMIN[x])/2) for x in range(len(weather.TMAX))] #Do calculate average per day\n",
    "weather[\"month\"] = weather.DATE.dt.month #Create a new column \"month\" to store the month of that date\n",
    "weather[\"day\"] = weather.DATE.dt.day #Create a new column \"day\" to store the month of that date\n",
    "weather.head()"
   ]
  },
  {
   "cell_type": "markdown",
   "metadata": {},
   "source": [
    "* PRCP : The total liquid water equivalent of presumably all precipitation\n",
    "* SNWD : Snow depth data\n",
    "* TMAX(F) : The maximum recorded temperature at a given station on a given day\n",
    "* TMIN(F): The minimum recorded temperature at a given station on a given day"
   ]
  },
  {
   "cell_type": "markdown",
   "metadata": {},
   "source": [
    "## Snow Date \n",
    "Snow dates were mainly during Jan-March."
   ]
  },
  {
   "cell_type": "code",
   "execution_count": 5,
   "metadata": {},
   "outputs": [
    {
     "data": {
      "text/html": [
       "<div>\n",
       "<style scoped>\n",
       "    .dataframe tbody tr th:only-of-type {\n",
       "        vertical-align: middle;\n",
       "    }\n",
       "\n",
       "    .dataframe tbody tr th {\n",
       "        vertical-align: top;\n",
       "    }\n",
       "\n",
       "    .dataframe thead th {\n",
       "        text-align: right;\n",
       "    }\n",
       "</style>\n",
       "<table border=\"1\" class=\"dataframe\">\n",
       "  <thead>\n",
       "    <tr style=\"text-align: right;\">\n",
       "      <th></th>\n",
       "      <th>DATE</th>\n",
       "      <th>PRCP</th>\n",
       "      <th>SNOW</th>\n",
       "      <th>TMAX</th>\n",
       "      <th>TMIN</th>\n",
       "      <th>TAVG</th>\n",
       "      <th>month</th>\n",
       "      <th>day</th>\n",
       "    </tr>\n",
       "  </thead>\n",
       "  <tbody>\n",
       "    <tr>\n",
       "      <th>3</th>\n",
       "      <td>2018-01-04</td>\n",
       "      <td>0.76</td>\n",
       "      <td>9.8</td>\n",
       "      <td>29</td>\n",
       "      <td>19</td>\n",
       "      <td>24.0</td>\n",
       "      <td>1</td>\n",
       "      <td>4</td>\n",
       "    </tr>\n",
       "    <tr>\n",
       "      <th>16</th>\n",
       "      <td>2018-01-17</td>\n",
       "      <td>0.19</td>\n",
       "      <td>0.4</td>\n",
       "      <td>36</td>\n",
       "      <td>22</td>\n",
       "      <td>29.0</td>\n",
       "      <td>1</td>\n",
       "      <td>17</td>\n",
       "    </tr>\n",
       "    <tr>\n",
       "      <th>28</th>\n",
       "      <td>2018-01-29</td>\n",
       "      <td>0.00</td>\n",
       "      <td>0.1</td>\n",
       "      <td>47</td>\n",
       "      <td>35</td>\n",
       "      <td>41.0</td>\n",
       "      <td>1</td>\n",
       "      <td>29</td>\n",
       "    </tr>\n",
       "    <tr>\n",
       "      <th>29</th>\n",
       "      <td>2018-01-30</td>\n",
       "      <td>0.11</td>\n",
       "      <td>0.9</td>\n",
       "      <td>36</td>\n",
       "      <td>24</td>\n",
       "      <td>30.0</td>\n",
       "      <td>1</td>\n",
       "      <td>30</td>\n",
       "    </tr>\n",
       "    <tr>\n",
       "      <th>37</th>\n",
       "      <td>2018-02-07</td>\n",
       "      <td>0.85</td>\n",
       "      <td>0.5</td>\n",
       "      <td>45</td>\n",
       "      <td>30</td>\n",
       "      <td>37.5</td>\n",
       "      <td>2</td>\n",
       "      <td>7</td>\n",
       "    </tr>\n",
       "    <tr>\n",
       "      <th>47</th>\n",
       "      <td>2018-02-17</td>\n",
       "      <td>0.52</td>\n",
       "      <td>4.4</td>\n",
       "      <td>40</td>\n",
       "      <td>28</td>\n",
       "      <td>34.0</td>\n",
       "      <td>2</td>\n",
       "      <td>17</td>\n",
       "    </tr>\n",
       "    <tr>\n",
       "      <th>65</th>\n",
       "      <td>2018-03-07</td>\n",
       "      <td>1.41</td>\n",
       "      <td>3.2</td>\n",
       "      <td>39</td>\n",
       "      <td>33</td>\n",
       "      <td>36.0</td>\n",
       "      <td>3</td>\n",
       "      <td>7</td>\n",
       "    </tr>\n",
       "    <tr>\n",
       "      <th>79</th>\n",
       "      <td>2018-03-21</td>\n",
       "      <td>0.99</td>\n",
       "      <td>8.2</td>\n",
       "      <td>39</td>\n",
       "      <td>31</td>\n",
       "      <td>35.0</td>\n",
       "      <td>3</td>\n",
       "      <td>21</td>\n",
       "    </tr>\n",
       "    <tr>\n",
       "      <th>80</th>\n",
       "      <td>2018-03-22</td>\n",
       "      <td>0.06</td>\n",
       "      <td>0.2</td>\n",
       "      <td>50</td>\n",
       "      <td>32</td>\n",
       "      <td>41.0</td>\n",
       "      <td>3</td>\n",
       "      <td>22</td>\n",
       "    </tr>\n",
       "    <tr>\n",
       "      <th>91</th>\n",
       "      <td>2018-04-02</td>\n",
       "      <td>0.59</td>\n",
       "      <td>5.5</td>\n",
       "      <td>43</td>\n",
       "      <td>33</td>\n",
       "      <td>38.0</td>\n",
       "      <td>4</td>\n",
       "      <td>2</td>\n",
       "    </tr>\n",
       "    <tr>\n",
       "      <th>318</th>\n",
       "      <td>2018-11-15</td>\n",
       "      <td>1.16</td>\n",
       "      <td>6.4</td>\n",
       "      <td>40</td>\n",
       "      <td>28</td>\n",
       "      <td>34.0</td>\n",
       "      <td>11</td>\n",
       "      <td>15</td>\n",
       "    </tr>\n",
       "  </tbody>\n",
       "</table>\n",
       "</div>"
      ],
      "text/plain": [
       "          DATE  PRCP  SNOW  TMAX  TMIN  TAVG  month  day\n",
       "3   2018-01-04  0.76   9.8    29    19  24.0      1    4\n",
       "16  2018-01-17  0.19   0.4    36    22  29.0      1   17\n",
       "28  2018-01-29  0.00   0.1    47    35  41.0      1   29\n",
       "29  2018-01-30  0.11   0.9    36    24  30.0      1   30\n",
       "37  2018-02-07  0.85   0.5    45    30  37.5      2    7\n",
       "47  2018-02-17  0.52   4.4    40    28  34.0      2   17\n",
       "65  2018-03-07  1.41   3.2    39    33  36.0      3    7\n",
       "79  2018-03-21  0.99   8.2    39    31  35.0      3   21\n",
       "80  2018-03-22  0.06   0.2    50    32  41.0      3   22\n",
       "91  2018-04-02  0.59   5.5    43    33  38.0      4    2\n",
       "318 2018-11-15  1.16   6.4    40    28  34.0     11   15"
      ]
     },
     "execution_count": 5,
     "metadata": {},
     "output_type": "execute_result"
    }
   ],
   "source": [
    "snow_date = weather[weather.SNOW>0]\n",
    "snow_date"
   ]
  },
  {
   "cell_type": "code",
   "execution_count": 6,
   "metadata": {},
   "outputs": [
    {
     "data": {
      "text/html": [
       "<div>\n",
       "<style scoped>\n",
       "    .dataframe tbody tr th:only-of-type {\n",
       "        vertical-align: middle;\n",
       "    }\n",
       "\n",
       "    .dataframe tbody tr th {\n",
       "        vertical-align: top;\n",
       "    }\n",
       "\n",
       "    .dataframe thead th {\n",
       "        text-align: right;\n",
       "    }\n",
       "</style>\n",
       "<table border=\"1\" class=\"dataframe\">\n",
       "  <thead>\n",
       "    <tr style=\"text-align: right;\">\n",
       "      <th></th>\n",
       "      <th>pickup_time</th>\n",
       "      <th>SNOW</th>\n",
       "      <th>day</th>\n",
       "    </tr>\n",
       "  </thead>\n",
       "  <tbody>\n",
       "    <tr>\n",
       "      <th>3</th>\n",
       "      <td>2018-01-04</td>\n",
       "      <td>9.8</td>\n",
       "      <td>4</td>\n",
       "    </tr>\n",
       "    <tr>\n",
       "      <th>16</th>\n",
       "      <td>2018-01-17</td>\n",
       "      <td>0.4</td>\n",
       "      <td>17</td>\n",
       "    </tr>\n",
       "    <tr>\n",
       "      <th>28</th>\n",
       "      <td>2018-01-29</td>\n",
       "      <td>0.1</td>\n",
       "      <td>29</td>\n",
       "    </tr>\n",
       "    <tr>\n",
       "      <th>29</th>\n",
       "      <td>2018-01-30</td>\n",
       "      <td>0.9</td>\n",
       "      <td>30</td>\n",
       "    </tr>\n",
       "    <tr>\n",
       "      <th>37</th>\n",
       "      <td>2018-02-07</td>\n",
       "      <td>0.5</td>\n",
       "      <td>7</td>\n",
       "    </tr>\n",
       "    <tr>\n",
       "      <th>47</th>\n",
       "      <td>2018-02-17</td>\n",
       "      <td>4.4</td>\n",
       "      <td>17</td>\n",
       "    </tr>\n",
       "    <tr>\n",
       "      <th>65</th>\n",
       "      <td>2018-03-07</td>\n",
       "      <td>3.2</td>\n",
       "      <td>7</td>\n",
       "    </tr>\n",
       "    <tr>\n",
       "      <th>79</th>\n",
       "      <td>2018-03-21</td>\n",
       "      <td>8.2</td>\n",
       "      <td>21</td>\n",
       "    </tr>\n",
       "    <tr>\n",
       "      <th>80</th>\n",
       "      <td>2018-03-22</td>\n",
       "      <td>0.2</td>\n",
       "      <td>22</td>\n",
       "    </tr>\n",
       "  </tbody>\n",
       "</table>\n",
       "</div>"
      ],
      "text/plain": [
       "   pickup_time  SNOW  day\n",
       "3   2018-01-04   9.8    4\n",
       "16  2018-01-17   0.4   17\n",
       "28  2018-01-29   0.1   29\n",
       "29  2018-01-30   0.9   30\n",
       "37  2018-02-07   0.5    7\n",
       "47  2018-02-17   4.4   17\n",
       "65  2018-03-07   3.2    7\n",
       "79  2018-03-21   8.2   21\n",
       "80  2018-03-22   0.2   22"
      ]
     },
     "execution_count": 6,
     "metadata": {},
     "output_type": "execute_result"
    }
   ],
   "source": [
    "snow_Jan_Mar = snow_date[snow_date.month<4]#Only choose month in Jan-March\n",
    "snow_Jan_Mar = snow_Jan_Mar[[\"DATE\",\"SNOW\",\"day\"]]\n",
    "snow_Jan_Mar.rename(columns={\"DATE\" : \"pickup_time\"},inplace=True)\n",
    "snow_Jan_Mar"
   ]
  },
  {
   "cell_type": "markdown",
   "metadata": {},
   "source": [
    "## Average Temp. for each month"
   ]
  },
  {
   "cell_type": "code",
   "execution_count": 66,
   "metadata": {},
   "outputs": [
    {
     "data": {
      "text/html": [
       "<div>\n",
       "<style scoped>\n",
       "    .dataframe tbody tr th:only-of-type {\n",
       "        vertical-align: middle;\n",
       "    }\n",
       "\n",
       "    .dataframe tbody tr th {\n",
       "        vertical-align: top;\n",
       "    }\n",
       "\n",
       "    .dataframe thead th {\n",
       "        text-align: right;\n",
       "    }\n",
       "</style>\n",
       "<table border=\"1\" class=\"dataframe\">\n",
       "  <thead>\n",
       "    <tr style=\"text-align: right;\">\n",
       "      <th></th>\n",
       "      <th>TAVG</th>\n",
       "    </tr>\n",
       "    <tr>\n",
       "      <th>month</th>\n",
       "      <th></th>\n",
       "    </tr>\n",
       "  </thead>\n",
       "  <tbody>\n",
       "    <tr>\n",
       "      <th>1</th>\n",
       "      <td>31.677419</td>\n",
       "    </tr>\n",
       "    <tr>\n",
       "      <th>2</th>\n",
       "      <td>42.035714</td>\n",
       "    </tr>\n",
       "    <tr>\n",
       "      <th>3</th>\n",
       "      <td>40.145161</td>\n",
       "    </tr>\n",
       "    <tr>\n",
       "      <th>4</th>\n",
       "      <td>49.450000</td>\n",
       "    </tr>\n",
       "    <tr>\n",
       "      <th>5</th>\n",
       "      <td>66.887097</td>\n",
       "    </tr>\n",
       "    <tr>\n",
       "      <th>6</th>\n",
       "      <td>71.650000</td>\n",
       "    </tr>\n",
       "    <tr>\n",
       "      <th>7</th>\n",
       "      <td>77.629032</td>\n",
       "    </tr>\n",
       "    <tr>\n",
       "      <th>8</th>\n",
       "      <td>78.129032</td>\n",
       "    </tr>\n",
       "    <tr>\n",
       "      <th>9</th>\n",
       "      <td>70.716667</td>\n",
       "    </tr>\n",
       "    <tr>\n",
       "      <th>10</th>\n",
       "      <td>57.677419</td>\n",
       "    </tr>\n",
       "    <tr>\n",
       "      <th>11</th>\n",
       "      <td>44.383333</td>\n",
       "    </tr>\n",
       "    <tr>\n",
       "      <th>12</th>\n",
       "      <td>40.112903</td>\n",
       "    </tr>\n",
       "  </tbody>\n",
       "</table>\n",
       "</div>"
      ],
      "text/plain": [
       "            TAVG\n",
       "month           \n",
       "1      31.677419\n",
       "2      42.035714\n",
       "3      40.145161\n",
       "4      49.450000\n",
       "5      66.887097\n",
       "6      71.650000\n",
       "7      77.629032\n",
       "8      78.129032\n",
       "9      70.716667\n",
       "10     57.677419\n",
       "11     44.383333\n",
       "12     40.112903"
      ]
     },
     "execution_count": 66,
     "metadata": {},
     "output_type": "execute_result"
    }
   ],
   "source": [
    "TAVG_month = weather.groupby(\"month\").agg({\"TAVG\" : \"mean\"})\n",
    "TAVG_month"
   ]
  },
  {
   "cell_type": "markdown",
   "metadata": {},
   "source": [
    "## Average PRCP for each month"
   ]
  },
  {
   "cell_type": "code",
   "execution_count": 8,
   "metadata": {},
   "outputs": [
    {
     "data": {
      "text/html": [
       "<div>\n",
       "<style scoped>\n",
       "    .dataframe tbody tr th:only-of-type {\n",
       "        vertical-align: middle;\n",
       "    }\n",
       "\n",
       "    .dataframe tbody tr th {\n",
       "        vertical-align: top;\n",
       "    }\n",
       "\n",
       "    .dataframe thead th {\n",
       "        text-align: right;\n",
       "    }\n",
       "</style>\n",
       "<table border=\"1\" class=\"dataframe\">\n",
       "  <thead>\n",
       "    <tr style=\"text-align: right;\">\n",
       "      <th></th>\n",
       "      <th>AVG_PRCP</th>\n",
       "    </tr>\n",
       "    <tr>\n",
       "      <th>month</th>\n",
       "      <th></th>\n",
       "    </tr>\n",
       "  </thead>\n",
       "  <tbody>\n",
       "    <tr>\n",
       "      <th>1</th>\n",
       "      <td>0.070323</td>\n",
       "    </tr>\n",
       "    <tr>\n",
       "      <th>2</th>\n",
       "      <td>0.208214</td>\n",
       "    </tr>\n",
       "    <tr>\n",
       "      <th>3</th>\n",
       "      <td>0.166774</td>\n",
       "    </tr>\n",
       "    <tr>\n",
       "      <th>4</th>\n",
       "      <td>0.192667</td>\n",
       "    </tr>\n",
       "    <tr>\n",
       "      <th>5</th>\n",
       "      <td>0.113871</td>\n",
       "    </tr>\n",
       "    <tr>\n",
       "      <th>6</th>\n",
       "      <td>0.103667</td>\n",
       "    </tr>\n",
       "    <tr>\n",
       "      <th>7</th>\n",
       "      <td>0.240323</td>\n",
       "    </tr>\n",
       "    <tr>\n",
       "      <th>8</th>\n",
       "      <td>0.277097</td>\n",
       "    </tr>\n",
       "    <tr>\n",
       "      <th>9</th>\n",
       "      <td>0.206333</td>\n",
       "    </tr>\n",
       "    <tr>\n",
       "      <th>10</th>\n",
       "      <td>0.115806</td>\n",
       "    </tr>\n",
       "    <tr>\n",
       "      <th>11</th>\n",
       "      <td>0.254000</td>\n",
       "    </tr>\n",
       "    <tr>\n",
       "      <th>12</th>\n",
       "      <td>0.210000</td>\n",
       "    </tr>\n",
       "  </tbody>\n",
       "</table>\n",
       "</div>"
      ],
      "text/plain": [
       "       AVG_PRCP\n",
       "month          \n",
       "1      0.070323\n",
       "2      0.208214\n",
       "3      0.166774\n",
       "4      0.192667\n",
       "5      0.113871\n",
       "6      0.103667\n",
       "7      0.240323\n",
       "8      0.277097\n",
       "9      0.206333\n",
       "10     0.115806\n",
       "11     0.254000\n",
       "12     0.210000"
      ]
     },
     "execution_count": 8,
     "metadata": {},
     "output_type": "execute_result"
    }
   ],
   "source": [
    "PRCP_month = weather.groupby(\"month\").agg({\"PRCP\" : \"mean\"})\n",
    "PRCP_month.rename(columns = {\"PRCP\":\"AVG_PRCP\"},inplace=True)\n",
    "PRCP_month"
   ]
  },
  {
   "cell_type": "markdown",
   "metadata": {},
   "source": [
    "## Import 2018 TLC Trip Data"
   ]
  },
  {
   "cell_type": "code",
   "execution_count": 9,
   "metadata": {},
   "outputs": [
    {
     "data": {
      "text/html": [
       "<div>\n",
       "<style scoped>\n",
       "    .dataframe tbody tr th:only-of-type {\n",
       "        vertical-align: middle;\n",
       "    }\n",
       "\n",
       "    .dataframe tbody tr th {\n",
       "        vertical-align: top;\n",
       "    }\n",
       "\n",
       "    .dataframe thead th {\n",
       "        text-align: right;\n",
       "    }\n",
       "</style>\n",
       "<table border=\"1\" class=\"dataframe\">\n",
       "  <thead>\n",
       "    <tr style=\"text-align: right;\">\n",
       "      <th></th>\n",
       "      <th>Pickup_ID</th>\n",
       "      <th>month</th>\n",
       "      <th>count</th>\n",
       "      <th>category</th>\n",
       "    </tr>\n",
       "  </thead>\n",
       "  <tbody>\n",
       "    <tr>\n",
       "      <th>0</th>\n",
       "      <td>1.0</td>\n",
       "      <td>1.0</td>\n",
       "      <td>584.0</td>\n",
       "      <td>Taxi</td>\n",
       "    </tr>\n",
       "    <tr>\n",
       "      <th>1</th>\n",
       "      <td>2.0</td>\n",
       "      <td>1.0</td>\n",
       "      <td>4.0</td>\n",
       "      <td>Taxi</td>\n",
       "    </tr>\n",
       "    <tr>\n",
       "      <th>2</th>\n",
       "      <td>3.0</td>\n",
       "      <td>1.0</td>\n",
       "      <td>432.0</td>\n",
       "      <td>Taxi</td>\n",
       "    </tr>\n",
       "    <tr>\n",
       "      <th>3</th>\n",
       "      <td>4.0</td>\n",
       "      <td>1.0</td>\n",
       "      <td>19656.0</td>\n",
       "      <td>Taxi</td>\n",
       "    </tr>\n",
       "    <tr>\n",
       "      <th>4</th>\n",
       "      <td>5.0</td>\n",
       "      <td>1.0</td>\n",
       "      <td>2.0</td>\n",
       "      <td>Taxi</td>\n",
       "    </tr>\n",
       "  </tbody>\n",
       "</table>\n",
       "</div>"
      ],
      "text/plain": [
       "   Pickup_ID  month    count category\n",
       "0        1.0    1.0    584.0     Taxi\n",
       "1        2.0    1.0      4.0     Taxi\n",
       "2        3.0    1.0    432.0     Taxi\n",
       "3        4.0    1.0  19656.0     Taxi\n",
       "4        5.0    1.0      2.0     Taxi"
      ]
     },
     "execution_count": 9,
     "metadata": {},
     "output_type": "execute_result"
    }
   ],
   "source": [
    "TLC_2018 = pd.read_csv(\"Data/All_TLC_2018Trip.csv\")\n",
    "TLC_2018.head()"
   ]
  },
  {
   "cell_type": "code",
   "execution_count": 48,
   "metadata": {},
   "outputs": [],
   "source": [
    "#Do sum by each month for Taxi and FHV\n",
    "Taxi_2018 = TLC_2018.loc[TLC_2018.category == \"Taxi\"]\n",
    "FHV_2018 = TLC_2018.loc[TLC_2018.category == \"FHV\"]\n",
    "Taxi_2018_month_sum = Taxi_2018.groupby([\"month\"]).agg({\"count\":\"sum\"})\n",
    "FHV_2018_month_sum = FHV_2018.groupby([\"month\"]).agg({\"count\":\"sum\"})\n",
    "#Do average trip per day in a month for Taxi and FHV\n",
    "Days_in_month = [31,28,31,30,31,30,31,31,30,31,30,31]\n",
    "Taxi_2018_month_per_day_trip = [Taxi_2018_month_sum[\"count\"][x]/test[x-1] for x in range(1,13)]\n",
    "FHV_2018_month_per_day_trip = [FHV_2018_month_sum[\"count\"][x]/test[x-1] for x in range(1,13)]"
   ]
  },
  {
   "cell_type": "markdown",
   "metadata": {},
   "source": [
    "## 2018 Month Trip of Taxi and FHV with Average Temp."
   ]
  },
  {
   "cell_type": "code",
   "execution_count": 64,
   "metadata": {},
   "outputs": [
    {
     "data": {
      "image/png": "[encoded data removed]",
      "text/plain": [
       "<Figure size 432x288 with 1 Axes>"
      ]
     },
     "metadata": {
      "needs_background": "light"
     },
     "output_type": "display_data"
    }
   ],
   "source": [
    "#Create two variables for xlabel usage\n",
    "month_num = pd.Series([1,2,3,4,5,6,7,8,9,10,11,12])\n",
    "month = pd.Series([\"Jan\",\"Feb\",\"Mar\",\"April\",\"May\",\"June\",\"July\",\"Aug\",\"Sep\",\"Oct\",\"Nov\",\"Dec\"])\n",
    "\n",
    "#Plot bar chart for Taxi and FHV by month\n",
    "plt.bar(month_num-0.2,[Taxi_2018_month_per_day_trip[x]/5000 for x in range(12)] ,0.4,label=\"Taxi\")\n",
    "plt.bar(month_num+0.2,[FHV_2018_month_per_day_trip[x]/5000 for x in range(12)],0.4,color=\"r\",label=\"FHV\")\n",
    "#Plot a line of month avg Temp.\n",
    "plt.plot(month_num,TAVG_month.TAVG,color = \"k\",label = \"Avg Temp\")\n",
    "\n",
    "plt.xticks(month_num,month,rotation = 90)\n",
    "plt.xlabel(\"Month of 2018\")\n",
    "plt.ylabel(\"Count(unit : 5k)\\ Temp(Fahrenheit)\")\n",
    "plt.title(\"2018 month Trips Per day of Taxi and FHV with avg Temp.\")\n",
    "plt.legend()\n",
    "plt.tight_layout()\n",
    "plt.savefig(\"month_trip_with_temp.png\")"
   ]
  },
  {
   "cell_type": "markdown",
   "metadata": {},
   "source": [
    "### Do correlation test for month trips per day of Taxi and month avg. Temp."
   ]
  },
  {
   "cell_type": "code",
   "execution_count": 54,
   "metadata": {},
   "outputs": [
    {
     "data": {
      "text/plain": [
       "SpearmanrResult(correlation=-0.41958041958041964, pvalue=0.1745190081300594)"
      ]
     },
     "execution_count": 54,
     "metadata": {},
     "output_type": "execute_result"
    }
   ],
   "source": [
    "#Using nonparametric method, Spearman correlation, measures of the relationship between two datasets.\n",
    "stats.spearmanr(Taxi_2018_month_per_day_trip, TAVG_month.TAVG)\n",
    "#Given a p-value of 0.1, we choose to accept the null hypothesis, \n",
    "#and therefore Temp wouldn't effect the willing people take a Taxi."
   ]
  },
  {
   "cell_type": "code",
   "execution_count": 55,
   "metadata": {},
   "outputs": [
    {
     "data": {
      "text/plain": [
       "SpearmanrResult(correlation=0.21678321678321683, pvalue=0.49855598552418856)"
      ]
     },
     "execution_count": 55,
     "metadata": {},
     "output_type": "execute_result"
    }
   ],
   "source": [
    "stats.spearmanr(FHV_2018_month_per_day_trip, TAVG_month.TAVG)\n",
    "#Given a p-value of 0.1, we choose to accept the null hypothesis, \n",
    "#and therefore Temp wouldn't effect the willing people take a FHV."
   ]
  },
  {
   "cell_type": "code",
   "execution_count": 56,
   "metadata": {},
   "outputs": [
    {
     "data": {
      "text/plain": [
       "SpearmanrResult(correlation=0.2797202797202798, pvalue=0.37856866966230307)"
      ]
     },
     "execution_count": 56,
     "metadata": {},
     "output_type": "execute_result"
    }
   ],
   "source": [
    "stats.spearmanr( [FHV_2018_month_per_day_trip[x]-Taxi_2018_month_per_day_trip[x] for x in range(12)],\n",
    "                TAVG_month.TAVG)\n",
    "#Given a p-value of 0.1, we choose to accept the null hypothesis, \n",
    "#and therefore Temp wouldn't effect the willing people take a FHV or Taxi."
   ]
  },
  {
   "cell_type": "markdown",
   "metadata": {},
   "source": [
    "## 2018 Month Trips Per day of Taxi and FHV with Average PRCP"
   ]
  },
  {
   "cell_type": "code",
   "execution_count": 65,
   "metadata": {},
   "outputs": [
    {
     "data": {
      "image/png": "[encoded data removed]",
      "text/plain": [
       "<Figure size 432x288 with 1 Axes>"
      ]
     },
     "metadata": {
      "needs_background": "light"
     },
     "output_type": "display_data"
    }
   ],
   "source": [
    "plt.bar(month_num-0.2,[Taxi_2018_month_per_day_trip[x]/1000000 for x in range(12)],0.4,label=\"Taxi\")\n",
    "plt.bar(month_num+0.2,[FHV_2018_month_per_day_trip[x]/1000000 for x in range(12)],0.4,color=\"r\",label=\"FHV\")\n",
    "plt.plot(month_num,PRCP_month.AVG_PRCP,color = \"k\",label = \"Avg PRCP\")\n",
    "plt.xticks(month_num,month,rotation = 90)\n",
    "plt.xlabel(\"Month of 2018\")\n",
    "plt.ylabel(\"Count(unit: million)\\ PRCP(inch)\")\n",
    "plt.title(\"2018 Month Trips Per day of Taxi and FHV with avg PRCP.\")\n",
    "plt.legend()\n",
    "plt.tight_layout()\n",
    "plt.savefig(\"month_trip_with_PRCP.png\")"
   ]
  },
  {
   "cell_type": "markdown",
   "metadata": {},
   "source": [
    "## Do correlation test for month trips Per day of Taxi and month avg. PRCP."
   ]
  },
  {
   "cell_type": "code",
   "execution_count": 61,
   "metadata": {},
   "outputs": [
    {
     "data": {
      "text/plain": [
       "SpearmanrResult(correlation=-0.5874125874125874, pvalue=0.044609296463363105)"
      ]
     },
     "execution_count": 61,
     "metadata": {},
     "output_type": "execute_result"
    }
   ],
   "source": [
    "#Using nonparametric method, Spearman correlation, measures of the relationship between two datasets.\n",
    "stats.spearmanr(Taxi_2018_month_per_day_trip,PRCP_month.AVG_PRCP)\n",
    "#Given a p-value of 0.1, we choose to reject the null hypothesis, \n",
    "#and therefore PRCP(Rain) would effect the willing people take a Taxi."
   ]
  },
  {
   "cell_type": "code",
   "execution_count": 62,
   "metadata": {},
   "outputs": [
    {
     "data": {
      "text/plain": [
       "SpearmanrResult(correlation=0.5524475524475525, pvalue=0.06251148327961512)"
      ]
     },
     "execution_count": 62,
     "metadata": {},
     "output_type": "execute_result"
    }
   ],
   "source": [
    "stats.spearmanr(FHV_2018_month_per_day_trip,PRCP_month.AVG_PRCP)\n",
    "#Given a p-value of 0.1, we choose to reject the null hypothesis, \n",
    "#and therefore PRCP(Rain) would effect the willing people take a FHV."
   ]
  },
  {
   "cell_type": "code",
   "execution_count": 63,
   "metadata": {},
   "outputs": [
    {
     "data": {
      "text/plain": [
       "SpearmanrResult(correlation=0.5384615384615385, pvalue=0.07089431754922315)"
      ]
     },
     "execution_count": 63,
     "metadata": {},
     "output_type": "execute_result"
    }
   ],
   "source": [
    "stats.spearmanr( [FHV_2018_month_per_day_trip[x]-Taxi_2018_month_per_day_trip[x] for x in range(12)],\n",
    "                PRCP_month.AVG_PRCP)\n",
    "#Given a p-value of 0.1, we choose to reject the null hypothesis, \n",
    "#and therefore PRCP(Rain) would effect the willing people take a FHV or Taxi."
   ]
  },
  {
   "cell_type": "markdown",
   "metadata": {},
   "source": [
    "## 2018 Snow Days trip analysis"
   ]
  },
  {
   "cell_type": "code",
   "execution_count": 27,
   "metadata": {},
   "outputs": [],
   "source": [
    "#This function can do calculate average Taxi trip of snow day and non-snow day in a month.\n",
    "def taxi_month_snowcount(url1,url2,month,snow_Jan_Mar):\n",
    "    \n",
    "    #Clean Yellow Taxi Data\n",
    "    data = pd.read_csv(url1,parse_dates=['tpep_pickup_datetime', 'tpep_dropoff_datetime'])\n",
    "    data = data[[\"tpep_pickup_datetime\"]]\n",
    "    data = data.rename(columns = {\"tpep_pickup_datetime\":\"pickup_time\"})\n",
    "    data[\"month\"] = data.pickup_time.dt.month\n",
    "    data[\"day\"] = data.pickup_time.dt.day\n",
    "    data = data.loc[(data.month == month)]\n",
    "    data.dropna(inplace=True)\n",
    "    \n",
    "    #Merge snow data with clean Yellow Taxi Data\n",
    "    taxi_snow_Jan = pd.merge(data,snow_Jan_Mar[snow_Jan_Mar.pickup_time.dt.month==month],on=\"day\",how='outer')\n",
    "    taxi_snow_Jan.fillna({\"SNOW\":0},inplace=True)\n",
    "    \n",
    "    #Calculate average trip of snow date for yellow\n",
    "    #snow result\n",
    "    snow_yellow_data = taxi_snow_Jan[taxi_snow_Jan.SNOW>0].groupby(\"day\").agg({\"month\":\"mean\",\"SNOW\":\"mean\",\"pickup_time_x\":\"count\"})\n",
    "    snow_result = (snow_yellow_data[\"pickup_time_x\"].mean())\n",
    "    #non-snow result\n",
    "    nonsnow_yellow_data = taxi_snow_Jan[taxi_snow_Jan.SNOW==0].groupby(\"day\").agg({\"month\":\"mean\",\"SNOW\":\"mean\",\"pickup_time_x\":\"count\"})\n",
    "    nonsnow_result = (nonsnow_yellow_data[\"pickup_time_x\"].mean())\n",
    "    \n",
    "    #Clean Green Taxi Data\n",
    "    green_data = pd.read_csv(url2,parse_dates=['lpep_pickup_datetime', 'lpep_dropoff_datetime'])\n",
    "    green_data = green_data[[\"lpep_pickup_datetime\"]]\n",
    "    green_data = green_data.rename(columns = {\"lpep_pickup_datetime\":\"pickup_time\"})\n",
    "    green_data[\"month\"] = green_data.pickup_time.dt.month\n",
    "    green_data[\"day\"] = green_data.pickup_time.dt.day\n",
    "    green_data = green_data.loc[(green_data.month ==month)] \n",
    "    green_data.dropna(inplace=True)\n",
    "    \n",
    "    #Merge snow data with clean Green Taxi Data\n",
    "    Gtaxi_snow_Jan = pd.merge(green_data,snow_Jan_Mar[snow_Jan_Mar.pickup_time.dt.month==month],on=\"day\",how='outer')\n",
    "    Gtaxi_snow_Jan.fillna({\"SNOW\":0},inplace=True)\n",
    "    \n",
    "    #Calculate average trip of snow date for green and sun of yellow and green\n",
    "    #snow result\n",
    "    snow_green_data = Gtaxi_snow_Jan[Gtaxi_snow_Jan.SNOW>0].groupby(\"day\").agg({\"month\":\"mean\",\"SNOW\":\"mean\",\"pickup_time_x\":\"count\"})\n",
    "    snow_result = snow_result + (snow_green_data[\"pickup_time_x\"].mean())\n",
    "    #non-snow result\n",
    "    nonsnow_green_data = Gtaxi_snow_Jan[Gtaxi_snow_Jan.SNOW==0].groupby(\"day\").agg({\"month\":\"mean\",\"SNOW\":\"mean\",\"pickup_time_x\":\"count\"})\n",
    "    nonsnow_result = nonsnow_result + (nonsnow_green_data[\"pickup_time_x\"].mean())\n",
    "    \n",
    "    \n",
    "    return([snow_result,nonsnow_result])"
   ]
  },
  {
   "cell_type": "code",
   "execution_count": 28,
   "metadata": {},
   "outputs": [],
   "source": [
    "#This function can do calculate average FHV trip of snow day and non-snow day in a month.\n",
    "def FHV_month_snowcount(url,month,snow_Jan_Mar):\n",
    "    \n",
    "    #Clean Yellow Taxi Data\n",
    "    FHV_data = pd.read_csv(url,parse_dates=['Pickup_DateTime', 'DropOff_datetime'])\n",
    "    FHV_data = FHV_data[[\"Pickup_DateTime\"]]\n",
    "    FHV_data = FHV_data.rename(columns = {\"Pickup_DateTime\":\"pickup_time\"})\n",
    "    FHV_data[\"month\"] = FHV_data.pickup_time.dt.month\n",
    "    FHV_data[\"day\"] = FHV_data.pickup_time.dt.day\n",
    "    FHV_data = FHV_data.loc[(FHV_data.month == month)]\n",
    "    FHV_data.dropna(inplace=True)\n",
    "    \n",
    "    #Merge snow data with clean Yellow Taxi Data\n",
    "    taxi_snow = pd.merge(FHV_data,snow_Jan_Mar[snow_Jan_Mar.pickup_time.dt.month==month],on=\"day\",how='outer')\n",
    "    taxi_snow.fillna({\"SNOW\":0},inplace=True)\n",
    "    \n",
    "    #Calculate average trip of snow date\n",
    "    #snow result\n",
    "    snow_FHV_data = taxi_snow[taxi_snow.SNOW>0].groupby(\"day\").agg({\"month\":\"mean\",\"SNOW\":\"mean\",\"pickup_time_x\":\"count\"})\n",
    "    snow_result = (snow_FHV_data[\"pickup_time_x\"].mean())\n",
    "    #non-snow result\n",
    "    nonsnow_FHV_data = taxi_snow[taxi_snow.SNOW==0].groupby(\"day\").agg({\"month\":\"mean\",\"SNOW\":\"mean\",\"pickup_time_x\":\"count\"})\n",
    "    nonsnow_result = (nonsnow_FHV_data[\"pickup_time_x\"].mean())\n",
    "    \n",
    "    return([snow_result,nonsnow_result])"
   ]
  },
  {
   "cell_type": "code",
   "execution_count": 161,
   "metadata": {},
   "outputs": [
    {
     "data": {
      "text/plain": [
       "[269562.0, 313877.7037037037]"
      ]
     },
     "execution_count": 161,
     "metadata": {},
     "output_type": "execute_result"
    }
   ],
   "source": [
    "#We don't put original raw data which is too huge on github, so you need to download the files from TLC to run this.\n",
    "Taxi_Jan_snow_result = taxi_month_snowcount(\"/Users/adam/Bootcamp_API_project/Data/Jan/yellow_tripdata_2018-01.csv\",\n",
    "                  \"/Users/adam/Bootcamp_API_project/Data/Jan/green_tripdata_2018-01.csv\",\n",
    "                  1,snow_Jan_Mar)\n",
    "Taxi_Jan_snow_result"
   ]
  },
  {
   "cell_type": "code",
   "execution_count": 162,
   "metadata": {},
   "outputs": [
    {
     "data": {
      "text/plain": [
       "[539256.25, 653743.2962962963]"
      ]
     },
     "execution_count": 162,
     "metadata": {},
     "output_type": "execute_result"
    }
   ],
   "source": [
    "#We don't put original raw data which is too huge on github, so you need to download the files from TLC to run this.\n",
    "FHV_Jan_snow_result = FHV_month_snowcount(\"/Users/adam/Bootcamp_API_project/Data/Jan/fhv_tripdata_2018-01.csv\",\n",
    "                                          1,snow_Jan_Mar)\n",
    "FHV_Jan_snow_result"
   ]
  },
  {
   "cell_type": "code",
   "execution_count": 163,
   "metadata": {},
   "outputs": [
    {
     "data": {
      "text/plain": [
       "[339352.5, 330090.6923076923]"
      ]
     },
     "execution_count": 163,
     "metadata": {},
     "output_type": "execute_result"
    }
   ],
   "source": [
    "#We don't put original raw data which is too huge on github, so you need to download the files from TLC to run this.\n",
    "Taxi_Feb_snow_result = taxi_month_snowcount(\"/Users/adam/Bootcamp_API_project/Data/Feb/yellow_tripdata_2018-02.csv\",\n",
    "                  \"/Users/adam/Bootcamp_API_project/Data/Feb/green_tripdata_2018-02.csv\",\n",
    "                  2,snow_Jan_Mar)\n",
    "Taxi_Feb_snow_result"
   ]
  },
  {
   "cell_type": "code",
   "execution_count": 164,
   "metadata": {},
   "outputs": [
    {
     "data": {
      "text/plain": [
       "[762091.5, 685635.0]"
      ]
     },
     "execution_count": 164,
     "metadata": {},
     "output_type": "execute_result"
    }
   ],
   "source": [
    "#We don't put original raw data which is too huge on github, so you need to download the files from TLC to run this.\n",
    "FHV_Feb_snow_result = FHV_month_snowcount(\"/Users/adam/Bootcamp_API_project/Data/Feb/fhv_tripdata_2018-02.csv\",\n",
    "                                          2,snow_Jan_Mar)\n",
    "FHV_Feb_snow_result"
   ]
  },
  {
   "cell_type": "code",
   "execution_count": 165,
   "metadata": {},
   "outputs": [
    {
     "data": {
      "text/plain": [
       "[257819.0, 339015.6785714286]"
      ]
     },
     "execution_count": 165,
     "metadata": {},
     "output_type": "execute_result"
    }
   ],
   "source": [
    "#We don't put original raw data which is too huge on github, so you need to download the files from TLC to run this.\n",
    "Taxi_Mar_snow_result = taxi_month_snowcount(\"/Users/adam/Bootcamp_API_project/Data/March/yellow_tripdata_2018-03.csv\",\n",
    "                  \"/Users/adam/Bootcamp_API_project/Data/March/green_tripdata_2018-03.csv\",\n",
    "                  3,snow_Jan_Mar)\n",
    "Taxi_Mar_snow_result"
   ]
  },
  {
   "cell_type": "code",
   "execution_count": 166,
   "metadata": {},
   "outputs": [
    {
     "data": {
      "text/plain": [
       "[618605.6666666666, 718908.2857142857]"
      ]
     },
     "execution_count": 166,
     "metadata": {},
     "output_type": "execute_result"
    }
   ],
   "source": [
    "#We don't put original raw data which is too huge on github, so you need to download the files from TLC to run this.\n",
    "FHV_Mar_snow_result = FHV_month_snowcount(\"/Users/adam/Bootcamp_API_project/Data/March/fhv_tripdata_2018-03.csv\",\n",
    "                                          3,snow_Jan_Mar)\n",
    "FHV_Mar_snow_result"
   ]
  },
  {
   "cell_type": "code",
   "execution_count": 177,
   "metadata": {},
   "outputs": [
    {
     "data": {
      "text/plain": [
       "<matplotlib.legend.Legend at 0x2461745f8>"
      ]
     },
     "execution_count": 177,
     "metadata": {},
     "output_type": "execute_result"
    },
    {
     "data": {
      "image/png": "[encoded data removed]",
      "text/plain": [
       "<Figure size 432x288 with 1 Axes>"
      ]
     },
     "metadata": {
      "needs_background": "light"
     },
     "output_type": "display_data"
    }
   ],
   "source": [
    "snow_taxi = [Taxi_Jan_snow_result[0],Taxi_Feb_snow_result[0],Taxi_Mar_snow_result[0]]\n",
    "non_snow_taxi = [Taxi_Jan_snow_result[1],Taxi_Feb_snow_result[1],Taxi_Mar_snow_result[1]]\n",
    "\n",
    "snow_FHV = [FHV_Jan_snow_result[0],FHV_Feb_snow_result[0],FHV_Mar_snow_result[0]]\n",
    "non_snow_FHV = [FHV_Jan_snow_result[1],FHV_Feb_snow_result[1],FHV_Mar_snow_result[1]]\n",
    "\n",
    "plt.bar(month_num[0:3]-0.2,snow_taxi,0.4,label=\"Taxi\")\n",
    "plt.bar(month_num[0:3]+0.2,snow_FHV,0.4,color=\"r\",label=\"FHV\")\n",
    "plt.xticks(month_num[0:3],month[0:3])\n",
    "plt.xlabel(\"Month of 2018\")\n",
    "plt.ylabel(\"Count\")\n",
    "plt.title(\"Snow Day: average trip of Taxi and FHV.\")\n",
    "plt.legend()"
   ]
  },
  {
   "cell_type": "code",
   "execution_count": 176,
   "metadata": {},
   "outputs": [
    {
     "data": {
      "text/plain": [
       "<matplotlib.legend.Legend at 0x2522f8390>"
      ]
     },
     "execution_count": 176,
     "metadata": {},
     "output_type": "execute_result"
    },
    {
     "data": {
      "image/png": "[encoded data removed]",
      "text/plain": [
       "<Figure size 432x288 with 1 Axes>"
      ]
     },
     "metadata": {
      "needs_background": "light"
     },
     "output_type": "display_data"
    }
   ],
   "source": [
    "plt.bar(month_num[0:3]-0.2,snow_taxi,0.4,label=\"Snow\")\n",
    "plt.bar(month_num[0:3]+0.2,non_snow_taxi,0.4,color=\"r\",label=\"non-snow\")\n",
    "plt.xticks(month_num[0:3],month[0:3])\n",
    "plt.xlabel(\"Month of 2018\")\n",
    "plt.ylabel(\"Count\")\n",
    "plt.title(\"Average trip of Taxi in Snow vs Non-Snow.\")\n",
    "plt.legend()"
   ]
  },
  {
   "cell_type": "code",
   "execution_count": 175,
   "metadata": {},
   "outputs": [
    {
     "data": {
      "text/plain": [
       "<matplotlib.legend.Legend at 0x25b436780>"
      ]
     },
     "execution_count": 175,
     "metadata": {},
     "output_type": "execute_result"
    },
    {
     "data": {
      "image/png": "[encoded data removed]",
      "text/plain": [
       "<Figure size 432x288 with 1 Axes>"
      ]
     },
     "metadata": {
      "needs_background": "light"
     },
     "output_type": "display_data"
    }
   ],
   "source": [
    "plt.bar(month_num[0:3]-0.2,snow_FHV,0.4,label=\"Snow\")\n",
    "plt.bar(month_num[0:3]+0.2,non_snow_FHV,0.4,color=\"r\",label=\"non-snow\")\n",
    "plt.xticks(month_num[0:3],month[0:3])\n",
    "plt.xlabel(\"Month of 2018\")\n",
    "plt.ylabel(\"Count\")\n",
    "plt.title(\"Average trip of FHV in Snow vs Non-Snow.\")\n",
    "plt.legend()"
   ]
  },
  {
   "cell_type": "code",
   "execution_count": null,
   "metadata": {},
   "outputs": [],
   "source": []
  }
 ],
 "metadata": {
  "kernelspec": {
   "display_name": "Python 3",
   "language": "python",
   "name": "python3"
  },
  "language_info": {
   "codemirror_mode": {
    "name": "ipython",
    "version": 3
   },
   "file_extension": ".py",
   "mimetype": "text/x-python",
   "name": "python",
   "nbconvert_exporter": "python",
   "pygments_lexer": "ipython3",
   "version": "3.7.2"
  }
 },
 "nbformat": 4,
 "nbformat_minor": 2
}
